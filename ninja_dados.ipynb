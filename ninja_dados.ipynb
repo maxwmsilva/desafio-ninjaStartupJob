{
  "nbformat": 4,
  "nbformat_minor": 0,
  "metadata": {
    "colab": {
      "provenance": [],
      "include_colab_link": true
    },
    "kernelspec": {
      "name": "python3",
      "display_name": "Python 3"
    },
    "language_info": {
      "name": "python"
    }
  },
  "cells": [
    {
      "cell_type": "markdown",
      "metadata": {
        "id": "view-in-github",
        "colab_type": "text"
      },
      "source": [
        "<a href=\"https://colab.research.google.com/github/maxwmsilva/desafio-ninjaStartupJob/blob/main/ninja_dados.ipynb\" target=\"_parent\"><img src=\"https://colab.research.google.com/assets/colab-badge.svg\" alt=\"Open In Colab\"/></a>"
      ]
    },
    {
      "cell_type": "markdown",
      "source": [
        "- Conectando ao Google BigQuery com Python: https://hex.tech/blog/connecting-bigquery-python/"
      ],
      "metadata": {
        "id": "YR_tSEOb4BrJ"
      }
    },
    {
      "cell_type": "markdown",
      "source": [
        "- Você precisará criar uma conta no Google Cloud.\n",
        "\n",
        "  Lhe pedirão um cartão de crédito pela avaliação, porém nada será cobrado."
      ],
      "metadata": {
        "id": "RC33zKOdAcMD"
      }
    },
    {
      "cell_type": "code",
      "execution_count": 1,
      "metadata": {
        "id": "ZZLZZ6cY3nky",
        "outputId": "f06c35da-bfed-4a6e-c076-094c4ce6746c",
        "colab": {
          "base_uri": "https://localhost:8080/"
        }
      },
      "outputs": [
        {
          "output_type": "stream",
          "name": "stdout",
          "text": [
            "Requirement already satisfied: google-cloud-bigquery in /usr/local/lib/python3.10/dist-packages (3.12.0)\n",
            "Requirement already satisfied: grpcio<2.0dev,>=1.47.0 in /usr/local/lib/python3.10/dist-packages (from google-cloud-bigquery) (1.60.0)\n",
            "Requirement already satisfied: google-api-core[grpc]!=2.0.*,!=2.1.*,!=2.2.*,!=2.3.0,<3.0.0dev,>=1.31.5 in /usr/local/lib/python3.10/dist-packages (from google-cloud-bigquery) (2.11.1)\n",
            "Requirement already satisfied: proto-plus<2.0.0dev,>=1.15.0 in /usr/local/lib/python3.10/dist-packages (from google-cloud-bigquery) (1.23.0)\n",
            "Requirement already satisfied: google-cloud-core<3.0.0dev,>=1.6.0 in /usr/local/lib/python3.10/dist-packages (from google-cloud-bigquery) (2.3.3)\n",
            "Requirement already satisfied: google-resumable-media<3.0dev,>=0.6.0 in /usr/local/lib/python3.10/dist-packages (from google-cloud-bigquery) (2.7.0)\n",
            "Requirement already satisfied: packaging>=20.0.0 in /usr/local/lib/python3.10/dist-packages (from google-cloud-bigquery) (23.2)\n",
            "Requirement already satisfied: protobuf!=3.20.0,!=3.20.1,!=4.21.0,!=4.21.1,!=4.21.2,!=4.21.3,!=4.21.4,!=4.21.5,<5.0.0dev,>=3.19.5 in /usr/local/lib/python3.10/dist-packages (from google-cloud-bigquery) (3.20.3)\n",
            "Requirement already satisfied: python-dateutil<3.0dev,>=2.7.2 in /usr/local/lib/python3.10/dist-packages (from google-cloud-bigquery) (2.8.2)\n",
            "Requirement already satisfied: requests<3.0.0dev,>=2.21.0 in /usr/local/lib/python3.10/dist-packages (from google-cloud-bigquery) (2.31.0)\n",
            "Requirement already satisfied: googleapis-common-protos<2.0.dev0,>=1.56.2 in /usr/local/lib/python3.10/dist-packages (from google-api-core[grpc]!=2.0.*,!=2.1.*,!=2.2.*,!=2.3.0,<3.0.0dev,>=1.31.5->google-cloud-bigquery) (1.62.0)\n",
            "Requirement already satisfied: google-auth<3.0.dev0,>=2.14.1 in /usr/local/lib/python3.10/dist-packages (from google-api-core[grpc]!=2.0.*,!=2.1.*,!=2.2.*,!=2.3.0,<3.0.0dev,>=1.31.5->google-cloud-bigquery) (2.17.3)\n",
            "Requirement already satisfied: grpcio-status<2.0.dev0,>=1.33.2 in /usr/local/lib/python3.10/dist-packages (from google-api-core[grpc]!=2.0.*,!=2.1.*,!=2.2.*,!=2.3.0,<3.0.0dev,>=1.31.5->google-cloud-bigquery) (1.48.2)\n",
            "Requirement already satisfied: google-crc32c<2.0dev,>=1.0 in /usr/local/lib/python3.10/dist-packages (from google-resumable-media<3.0dev,>=0.6.0->google-cloud-bigquery) (1.5.0)\n",
            "Requirement already satisfied: six>=1.5 in /usr/local/lib/python3.10/dist-packages (from python-dateutil<3.0dev,>=2.7.2->google-cloud-bigquery) (1.16.0)\n",
            "Requirement already satisfied: charset-normalizer<4,>=2 in /usr/local/lib/python3.10/dist-packages (from requests<3.0.0dev,>=2.21.0->google-cloud-bigquery) (3.3.2)\n",
            "Requirement already satisfied: idna<4,>=2.5 in /usr/local/lib/python3.10/dist-packages (from requests<3.0.0dev,>=2.21.0->google-cloud-bigquery) (3.6)\n",
            "Requirement already satisfied: urllib3<3,>=1.21.1 in /usr/local/lib/python3.10/dist-packages (from requests<3.0.0dev,>=2.21.0->google-cloud-bigquery) (2.0.7)\n",
            "Requirement already satisfied: certifi>=2017.4.17 in /usr/local/lib/python3.10/dist-packages (from requests<3.0.0dev,>=2.21.0->google-cloud-bigquery) (2023.11.17)\n",
            "Requirement already satisfied: cachetools<6.0,>=2.0.0 in /usr/local/lib/python3.10/dist-packages (from google-auth<3.0.dev0,>=2.14.1->google-api-core[grpc]!=2.0.*,!=2.1.*,!=2.2.*,!=2.3.0,<3.0.0dev,>=1.31.5->google-cloud-bigquery) (5.3.2)\n",
            "Requirement already satisfied: pyasn1-modules>=0.2.1 in /usr/local/lib/python3.10/dist-packages (from google-auth<3.0.dev0,>=2.14.1->google-api-core[grpc]!=2.0.*,!=2.1.*,!=2.2.*,!=2.3.0,<3.0.0dev,>=1.31.5->google-cloud-bigquery) (0.3.0)\n",
            "Requirement already satisfied: rsa<5,>=3.1.4 in /usr/local/lib/python3.10/dist-packages (from google-auth<3.0.dev0,>=2.14.1->google-api-core[grpc]!=2.0.*,!=2.1.*,!=2.2.*,!=2.3.0,<3.0.0dev,>=1.31.5->google-cloud-bigquery) (4.9)\n",
            "Requirement already satisfied: pyasn1<0.6.0,>=0.4.6 in /usr/local/lib/python3.10/dist-packages (from pyasn1-modules>=0.2.1->google-auth<3.0.dev0,>=2.14.1->google-api-core[grpc]!=2.0.*,!=2.1.*,!=2.2.*,!=2.3.0,<3.0.0dev,>=1.31.5->google-cloud-bigquery) (0.5.1)\n"
          ]
        }
      ],
      "source": [
        "!pip install google-cloud-bigquery"
      ]
    },
    {
      "cell_type": "markdown",
      "source": [
        "- Você precisará criar uma conta de serviço para realizar as consultas com Python.\n",
        "\n",
        "  https://cloud.google.com/iam/docs/service-accounts-create?hl=pt-br#creating\n",
        "\n",
        "  Após criá-la, crie uma chave, baixe-a e carregue-a neste COLAB.\n",
        "\n",
        "  Você também precisará adicionar a seguinte permissão à conta de serviço, na aba \"Gerenciar Recursos\":\n",
        "  - Usuário de Jobs do BigQuery\n"
      ],
      "metadata": {
        "id": "2gaZ-AyhA2tI"
      }
    },
    {
      "cell_type": "code",
      "source": [
        "from google.cloud import bigquery\n",
        "from google.oauth2 import service_account\n",
        "import pandas as pd"
      ],
      "metadata": {
        "id": "7Rs6OQT26os8"
      },
      "execution_count": 4,
      "outputs": []
    },
    {
      "cell_type": "code",
      "source": [
        "credentials = service_account.Credentials.from_service_account_file('desafioninja-2c6c6305aec7.json')\n",
        "project_id = 'desafioninja' # substitua pelo id do seu projeto\n",
        "client = bigquery.Client(credentials= credentials,project=project_id)"
      ],
      "metadata": {
        "id": "TOhxWBCo6qAe",
        "outputId": "e60d882a-cc7a-4a17-aaf8-30478366ada7",
        "colab": {
          "base_uri": "https://localhost:8080/",
          "height": 355
        }
      },
      "execution_count": 7,
      "outputs": [
        {
          "output_type": "error",
          "ename": "FileNotFoundError",
          "evalue": "ignored",
          "traceback": [
            "\u001b[0;31m---------------------------------------------------------------------------\u001b[0m",
            "\u001b[0;31mFileNotFoundError\u001b[0m                         Traceback (most recent call last)",
            "\u001b[0;32m<ipython-input-7-5b8136c70050>\u001b[0m in \u001b[0;36m<cell line: 1>\u001b[0;34m()\u001b[0m\n\u001b[0;32m----> 1\u001b[0;31m \u001b[0mcredentials\u001b[0m \u001b[0;34m=\u001b[0m \u001b[0mservice_account\u001b[0m\u001b[0;34m.\u001b[0m\u001b[0mCredentials\u001b[0m\u001b[0;34m.\u001b[0m\u001b[0mfrom_service_account_file\u001b[0m\u001b[0;34m(\u001b[0m\u001b[0;34m'desafioninja-2c6c6305aec7.json'\u001b[0m\u001b[0;34m)\u001b[0m\u001b[0;34m\u001b[0m\u001b[0;34m\u001b[0m\u001b[0m\n\u001b[0m\u001b[1;32m      2\u001b[0m \u001b[0mproject_id\u001b[0m \u001b[0;34m=\u001b[0m \u001b[0;34m'desafioninja'\u001b[0m \u001b[0;31m# substitua pelo id do seu projeto\u001b[0m\u001b[0;34m\u001b[0m\u001b[0;34m\u001b[0m\u001b[0m\n\u001b[1;32m      3\u001b[0m \u001b[0mclient\u001b[0m \u001b[0;34m=\u001b[0m \u001b[0mbigquery\u001b[0m\u001b[0;34m.\u001b[0m\u001b[0mClient\u001b[0m\u001b[0;34m(\u001b[0m\u001b[0mcredentials\u001b[0m\u001b[0;34m=\u001b[0m \u001b[0mcredentials\u001b[0m\u001b[0;34m,\u001b[0m\u001b[0mproject\u001b[0m\u001b[0;34m=\u001b[0m\u001b[0mproject_id\u001b[0m\u001b[0;34m)\u001b[0m\u001b[0;34m\u001b[0m\u001b[0;34m\u001b[0m\u001b[0m\n",
            "\u001b[0;32m/usr/local/lib/python3.10/dist-packages/google/oauth2/service_account.py\u001b[0m in \u001b[0;36mfrom_service_account_file\u001b[0;34m(cls, filename, **kwargs)\u001b[0m\n\u001b[1;32m    239\u001b[0m                 \u001b[0mcredentials\u001b[0m\u001b[0;34m.\u001b[0m\u001b[0;34m\u001b[0m\u001b[0;34m\u001b[0m\u001b[0m\n\u001b[1;32m    240\u001b[0m         \"\"\"\n\u001b[0;32m--> 241\u001b[0;31m         info, signer = _service_account_info.from_filename(\n\u001b[0m\u001b[1;32m    242\u001b[0m             \u001b[0mfilename\u001b[0m\u001b[0;34m,\u001b[0m \u001b[0mrequire\u001b[0m\u001b[0;34m=\u001b[0m\u001b[0;34m[\u001b[0m\u001b[0;34m\"client_email\"\u001b[0m\u001b[0;34m,\u001b[0m \u001b[0;34m\"token_uri\"\u001b[0m\u001b[0;34m]\u001b[0m\u001b[0;34m\u001b[0m\u001b[0;34m\u001b[0m\u001b[0m\n\u001b[1;32m    243\u001b[0m         )\n",
            "\u001b[0;32m/usr/local/lib/python3.10/dist-packages/google/auth/_service_account_info.py\u001b[0m in \u001b[0;36mfrom_filename\u001b[0;34m(filename, require, use_rsa_signer)\u001b[0m\n\u001b[1;32m     78\u001b[0m             \u001b[0minfo\u001b[0m \u001b[0;32mand\u001b[0m \u001b[0ma\u001b[0m \u001b[0msigner\u001b[0m \u001b[0minstance\u001b[0m\u001b[0;34m.\u001b[0m\u001b[0;34m\u001b[0m\u001b[0;34m\u001b[0m\u001b[0m\n\u001b[1;32m     79\u001b[0m     \"\"\"\n\u001b[0;32m---> 80\u001b[0;31m     \u001b[0;32mwith\u001b[0m \u001b[0mio\u001b[0m\u001b[0;34m.\u001b[0m\u001b[0mopen\u001b[0m\u001b[0;34m(\u001b[0m\u001b[0mfilename\u001b[0m\u001b[0;34m,\u001b[0m \u001b[0;34m\"r\"\u001b[0m\u001b[0;34m,\u001b[0m \u001b[0mencoding\u001b[0m\u001b[0;34m=\u001b[0m\u001b[0;34m\"utf-8\"\u001b[0m\u001b[0;34m)\u001b[0m \u001b[0;32mas\u001b[0m \u001b[0mjson_file\u001b[0m\u001b[0;34m:\u001b[0m\u001b[0;34m\u001b[0m\u001b[0;34m\u001b[0m\u001b[0m\n\u001b[0m\u001b[1;32m     81\u001b[0m         \u001b[0mdata\u001b[0m \u001b[0;34m=\u001b[0m \u001b[0mjson\u001b[0m\u001b[0;34m.\u001b[0m\u001b[0mload\u001b[0m\u001b[0;34m(\u001b[0m\u001b[0mjson_file\u001b[0m\u001b[0;34m)\u001b[0m\u001b[0;34m\u001b[0m\u001b[0;34m\u001b[0m\u001b[0m\n\u001b[1;32m     82\u001b[0m         \u001b[0;32mreturn\u001b[0m \u001b[0mdata\u001b[0m\u001b[0;34m,\u001b[0m \u001b[0mfrom_dict\u001b[0m\u001b[0;34m(\u001b[0m\u001b[0mdata\u001b[0m\u001b[0;34m,\u001b[0m \u001b[0mrequire\u001b[0m\u001b[0;34m=\u001b[0m\u001b[0mrequire\u001b[0m\u001b[0;34m,\u001b[0m \u001b[0muse_rsa_signer\u001b[0m\u001b[0;34m=\u001b[0m\u001b[0muse_rsa_signer\u001b[0m\u001b[0;34m)\u001b[0m\u001b[0;34m\u001b[0m\u001b[0;34m\u001b[0m\u001b[0m\n",
            "\u001b[0;31mFileNotFoundError\u001b[0m: [Errno 2] No such file or directory: 'desafioninja-2c6c6305aec7.json'"
          ]
        }
      ]
    },
    {
      "cell_type": "code",
      "source": [
        "query = client.query(\n",
        "    \"\"\"\n",
        "    SELECT * FROM\n",
        "    `bigquery-public-data.thelook_ecommerce.products`\n",
        "    LIMIT 10\n",
        "    \"\"\")\n",
        "results = query.result()\n",
        "for row in results:\n",
        "\tprint(row)"
      ],
      "metadata": {
        "colab": {
          "base_uri": "https://localhost:8080/"
        },
        "id": "miRzi33eCNEg",
        "outputId": "aef00bfc-57d8-4735-d506-b41299826e0d"
      },
      "execution_count": null,
      "outputs": [
        {
          "output_type": "stream",
          "name": "stdout",
          "text": [
            "Row((13842, 2.518749990849756, 'Accessories', 'Low Profile Dyed Cotton Twill Cap - Navy W39S55D', 'MG', 6.25, 'Women', 'EBD58B8A3F1D72F4206201DA62FB1204', 1), {'id': 0, 'cost': 1, 'category': 2, 'name': 3, 'brand': 4, 'retail_price': 5, 'department': 6, 'sku': 7, 'distribution_center_id': 8})\n",
            "Row((13928, 2.3383499148894105, 'Accessories', 'Low Profile Dyed Cotton Twill Cap - Putty W39S55D', 'MG', 5.949999809265137, 'Women', '2EAC42424D12436BDD6A5B8A88480CC3', 1), {'id': 0, 'cost': 1, 'category': 2, 'name': 3, 'brand': 4, 'retail_price': 5, 'department': 6, 'sku': 7, 'distribution_center_id': 8})\n",
            "Row((14115, 4.879559879379869, 'Accessories', 'Enzyme Regular Solid Army Caps-Black W35S45D', 'MG', 10.989999771118164, 'Women', 'EE364229B2791D1EF9355708EFF0BA34', 1), {'id': 0, 'cost': 1, 'category': 2, 'name': 3, 'brand': 4, 'retail_price': 5, 'department': 6, 'sku': 7, 'distribution_center_id': 8})\n",
            "Row((14157, 4.648769887297898, 'Accessories', 'Enzyme Regular Solid Army Caps-Olive W35S45D (One Size)', 'MG', 10.989999771118164, 'Women', '00BD13095D06C20B11A2993CA419D16B', 1), {'id': 0, 'cost': 1, 'category': 2, 'name': 3, 'brand': 4, 'retail_price': 5, 'department': 6, 'sku': 7, 'distribution_center_id': 8})\n",
            "Row((14273, 6.507929886473045, 'Accessories', 'Washed Canvas Ivy Cap - Black W11S64C', 'MG', 15.989999771118164, 'Women', 'F531DC20FDE20B7ADF3A73F52B71D0AF', 1), {'id': 0, 'cost': 1, 'category': 2, 'name': 3, 'brand': 4, 'retail_price': 5, 'department': 6, 'sku': 7, 'distribution_center_id': 8})\n",
            "Row((15674, 3.1062499998370185, 'Plus', 'Low Profile Dyed Cotton Twill Cap - Navy W39S55D', 'MG', 6.25, 'Women', '63894CE404B8C652915C41EF8B879D20', 1), {'id': 0, 'cost': 1, 'category': 2, 'name': 3, 'brand': 4, 'retail_price': 5, 'department': 6, 'sku': 7, 'distribution_center_id': 8})\n",
            "Row((15816, 3.1772999091416594, 'Plus', 'Low Profile Dyed Cotton Twill Cap - Putty W39S55D', 'MG', 5.949999809265137, 'Women', '151EA8C2D98CE89C2336324C11B1E107', 1), {'id': 0, 'cost': 1, 'category': 2, 'name': 3, 'brand': 4, 'retail_price': 5, 'department': 6, 'sku': 7, 'distribution_center_id': 8})\n",
            "Row((28646, 8.73562987972319, 'Accessories', '4 Panel Large Bill Flap Hat W15S48B (One Size Fits Most/Khaki)', 'MG', 19.989999771118164, 'Men', '789334DE6DAA80D83AB4ACB6A4BF5AC7', 1), {'id': 0, 'cost': 1, 'category': 2, 'name': 3, 'brand': 4, 'retail_price': 5, 'department': 6, 'sku': 7, 'distribution_center_id': 8})\n",
            "Row((28670, 2.6759399153566363, 'Accessories', 'Low Profile Dyed Cotton Twill Cap - Black W39S55D', 'MG', 6.179999828338623, 'Men', 'E74843B99DA8B29775C6AA9080436844', 1), {'id': 0, 'cost': 1, 'category': 2, 'name': 3, 'brand': 4, 'retail_price': 5, 'department': 6, 'sku': 7, 'distribution_center_id': 8})\n",
            "Row((28714, 2.275000000372529, 'Accessories', 'Low Profile Dyed Cotton Twill Cap - Khaki W39S55D', 'MG', 6.25, 'Men', '8CA33D44648CC9FEECEF21E5A7123291', 1), {'id': 0, 'cost': 1, 'category': 2, 'name': 3, 'brand': 4, 'retail_price': 5, 'department': 6, 'sku': 7, 'distribution_center_id': 8})\n"
          ]
        }
      ]
    },
    {
      "cell_type": "markdown",
      "source": [
        "Com esse setup, agora é a hora de você mostrar suas habilidades ninjas!"
      ],
      "metadata": {
        "id": "a_yzpy3yLK_J"
      }
    }
  ]
}